{
 "cells": [
  {
   "cell_type": "code",
   "execution_count": 1,
   "id": "573bbd23",
   "metadata": {},
   "outputs": [],
   "source": [
    "import spacy\n",
    "\n",
    "nlp = spacy.load(\"en_core_web_sm\")"
   ]
  },
  {
   "cell_type": "code",
   "execution_count": 2,
   "id": "22328e2c",
   "metadata": {},
   "outputs": [
    {
     "data": {
      "text/plain": [
       "[('tok2vec', <spacy.pipeline.tok2vec.Tok2Vec at 0x28e11cd2fe0>),\n",
       " ('tagger', <spacy.pipeline.tagger.Tagger at 0x28e11cd2200>),\n",
       " ('parser', <spacy.pipeline.dep_parser.DependencyParser at 0x28e11bbe180>),\n",
       " ('attribute_ruler',\n",
       "  <spacy.pipeline.attributeruler.AttributeRuler at 0x28e11909040>),\n",
       " ('lemmatizer', <spacy.lang.en.lemmatizer.EnglishLemmatizer at 0x28e11eb6400>),\n",
       " ('ner', <spacy.pipeline.ner.EntityRecognizer at 0x28e11bbe260>)]"
      ]
     },
     "execution_count": 2,
     "metadata": {},
     "output_type": "execute_result"
    }
   ],
   "source": [
    "nlp.pipeline"
   ]
  },
  {
   "cell_type": "code",
   "execution_count": 3,
   "id": "a2251e86",
   "metadata": {},
   "outputs": [],
   "source": [
    "text = \"\"\"Kiran want to know the famous foods in each state of India. So, he opened Google and search for this question. Google showed that\n",
    "in Delhi it is Chaat, in Gujarat it is Dal Dhokli, in Tamilnadu it is Pongal, in Andhrapradesh it is Biryani, in Assam it is Papaya Khar,\n",
    "in Bihar it is Litti Chowkha and so on for all other states\"\"\""
   ]
  },
  {
   "cell_type": "code",
   "execution_count": 4,
   "id": "523485bf",
   "metadata": {},
   "outputs": [
    {
     "data": {
      "text/plain": [
       "['_',\n",
       " '__bytes__',\n",
       " '__class__',\n",
       " '__delattr__',\n",
       " '__dir__',\n",
       " '__doc__',\n",
       " '__eq__',\n",
       " '__format__',\n",
       " '__ge__',\n",
       " '__getattribute__',\n",
       " '__getitem__',\n",
       " '__gt__',\n",
       " '__hash__',\n",
       " '__init__',\n",
       " '__init_subclass__',\n",
       " '__iter__',\n",
       " '__le__',\n",
       " '__len__',\n",
       " '__lt__',\n",
       " '__ne__',\n",
       " '__new__',\n",
       " '__pyx_vtable__',\n",
       " '__reduce__',\n",
       " '__reduce_ex__',\n",
       " '__repr__',\n",
       " '__setattr__',\n",
       " '__setstate__',\n",
       " '__sizeof__',\n",
       " '__str__',\n",
       " '__subclasshook__',\n",
       " '__unicode__',\n",
       " '_bulk_merge',\n",
       " '_context',\n",
       " '_get_array_attrs',\n",
       " '_realloc',\n",
       " '_vector',\n",
       " '_vector_norm',\n",
       " 'cats',\n",
       " 'char_span',\n",
       " 'copy',\n",
       " 'count_by',\n",
       " 'doc',\n",
       " 'ents',\n",
       " 'extend_tensor',\n",
       " 'from_array',\n",
       " 'from_bytes',\n",
       " 'from_dict',\n",
       " 'from_disk',\n",
       " 'from_docs',\n",
       " 'from_json',\n",
       " 'get_extension',\n",
       " 'get_lca_matrix',\n",
       " 'has_annotation',\n",
       " 'has_extension',\n",
       " 'has_unknown_spaces',\n",
       " 'has_vector',\n",
       " 'is_nered',\n",
       " 'is_parsed',\n",
       " 'is_sentenced',\n",
       " 'is_tagged',\n",
       " 'lang',\n",
       " 'lang_',\n",
       " 'mem',\n",
       " 'noun_chunks',\n",
       " 'noun_chunks_iterator',\n",
       " 'remove_extension',\n",
       " 'retokenize',\n",
       " 'sentiment',\n",
       " 'sents',\n",
       " 'set_ents',\n",
       " 'set_extension',\n",
       " 'similarity',\n",
       " 'spans',\n",
       " 'tensor',\n",
       " 'text',\n",
       " 'text_with_ws',\n",
       " 'to_array',\n",
       " 'to_bytes',\n",
       " 'to_dict',\n",
       " 'to_disk',\n",
       " 'to_json',\n",
       " 'to_utf8_array',\n",
       " 'user_data',\n",
       " 'user_hooks',\n",
       " 'user_span_hooks',\n",
       " 'user_token_hooks',\n",
       " 'vector',\n",
       " 'vector_norm',\n",
       " 'vocab']"
      ]
     },
     "execution_count": 4,
     "metadata": {},
     "output_type": "execute_result"
    }
   ],
   "source": [
    "doc = nlp(text)\n",
    "dir(doc)"
   ]
  },
  {
   "cell_type": "code",
   "execution_count": 5,
   "id": "f7e21f1d",
   "metadata": {},
   "outputs": [],
   "source": [
    "lemma_txt =''\n",
    "for token in doc:\n",
    "    lemma_txt+=''.join(token.lemma_)+' '"
   ]
  },
  {
   "cell_type": "code",
   "execution_count": 6,
   "id": "2df21671",
   "metadata": {},
   "outputs": [
    {
     "data": {
      "text/plain": [
       "'Kiran want to know the famous food in each state of India . so , he open Google and search for this question . Google show that \\n in Delhi it be Chaat , in Gujarat it be Dal Dhokli , in Tamilnadu it be Pongal , in Andhrapradesh it be Biryani , in Assam it be Papaya Khar , \\n in Bihar it be Litti Chowkha and so on for all other state '"
      ]
     },
     "execution_count": 6,
     "metadata": {},
     "output_type": "execute_result"
    }
   ],
   "source": [
    "lemma_txt"
   ]
  },
  {
   "cell_type": "code",
   "execution_count": 7,
   "id": "8be81f31",
   "metadata": {},
   "outputs": [],
   "source": [
    "model=nlp(lemma_txt)"
   ]
  },
  {
   "cell_type": "code",
   "execution_count": 8,
   "id": "e84c2810",
   "metadata": {},
   "outputs": [
    {
     "name": "stdout",
     "output_type": "stream",
     "text": [
      "ORG | Kiran\n",
      "GPE | India\n",
      "ORG | Google\n",
      "ORG | Google\n",
      "GPE | Delhi\n",
      "ORG | Chaat\n",
      "GPE | Gujarat\n",
      "PERSON | Dal Dhokli\n",
      "GPE | Tamilnadu\n",
      "GPE | Pongal\n",
      "GPE | Andhrapradesh\n",
      "PERSON | Biryani\n",
      "GPE | Assam\n",
      "PERSON | Papaya Khar\n",
      "GPE | Bihar\n",
      "PERSON | Litti Chowkha\n"
     ]
    },
    {
     "data": {
      "text/plain": [
       "['India',\n",
       " 'Delhi',\n",
       " 'Gujarat',\n",
       " 'Tamilnadu',\n",
       " 'Pongal',\n",
       " 'Andhrapradesh',\n",
       " 'Assam',\n",
       " 'Bihar']"
      ]
     },
     "execution_count": 8,
     "metadata": {},
     "output_type": "execute_result"
    }
   ],
   "source": [
    "gpe = []\n",
    "for token in doc.ents:\n",
    "    print(token.label_ ,'|',token)\n",
    "    if token.label_ =='GPE':\n",
    "        gpe.append(token.text)\n",
    "#         print(token)\n",
    "\n",
    "gpe"
   ]
  },
  {
   "cell_type": "code",
   "execution_count": 9,
   "id": "86b12cd3",
   "metadata": {},
   "outputs": [
    {
     "data": {
      "text/plain": [
       "8"
      ]
     },
     "execution_count": 9,
     "metadata": {},
     "output_type": "execute_result"
    }
   ],
   "source": [
    "len(gpe)"
   ]
  },
  {
   "cell_type": "code",
   "execution_count": 10,
   "id": "0b18de7f",
   "metadata": {},
   "outputs": [],
   "source": [
    "text2 = \"\"\"Sachin Tendulkar was born on 24 April 1973, Virat Kholi was born on 5 November 1988, Dhoni was born on 7 July 1981\n",
    "and finally Ricky ponting was born on 19 December 1974.\"\"\"\n"
   ]
  },
  {
   "cell_type": "code",
   "execution_count": 11,
   "id": "fc7cf04b",
   "metadata": {},
   "outputs": [],
   "source": [
    "doc2=nlp(text2)"
   ]
  },
  {
   "cell_type": "code",
   "execution_count": 12,
   "id": "75ced62a",
   "metadata": {},
   "outputs": [
    {
     "data": {
      "text/plain": [
       "['24 April 1973', '5 November 1988', '7 July 1981', '19 December 1974']"
      ]
     },
     "execution_count": 12,
     "metadata": {},
     "output_type": "execute_result"
    }
   ],
   "source": [
    "dob=[]\n",
    "for entity in doc2.ents:\n",
    "    if entity.label_ == \"DATE\":\n",
    "        dob.append(entity.text)\n",
    "dob"
   ]
  },
  {
   "cell_type": "code",
   "execution_count": 13,
   "id": "05d374a0",
   "metadata": {},
   "outputs": [
    {
     "data": {
      "text/plain": [
       "4"
      ]
     },
     "execution_count": 13,
     "metadata": {},
     "output_type": "execute_result"
    }
   ],
   "source": [
    "len(dob)"
   ]
  },
  {
   "cell_type": "code",
   "execution_count": null,
   "id": "d8e80a83",
   "metadata": {},
   "outputs": [],
   "source": []
  }
 ],
 "metadata": {
  "kernelspec": {
   "display_name": "Python 3 (ipykernel)",
   "language": "python",
   "name": "python3"
  },
  "language_info": {
   "codemirror_mode": {
    "name": "ipython",
    "version": 3
   },
   "file_extension": ".py",
   "mimetype": "text/x-python",
   "name": "python",
   "nbconvert_exporter": "python",
   "pygments_lexer": "ipython3",
   "version": "3.10.9"
  }
 },
 "nbformat": 4,
 "nbformat_minor": 5
}
